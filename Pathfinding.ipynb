{
  "nbformat": 4,
  "nbformat_minor": 0,
  "metadata": {
    "colab": {
      "provenance": [],
      "authorship_tag": "ABX9TyOAqOxjtKols7u4kfwDmrBC",
      "include_colab_link": true
    },
    "kernelspec": {
      "name": "python3",
      "display_name": "Python 3"
    },
    "language_info": {
      "name": "python"
    }
  },
  "cells": [
    {
      "cell_type": "markdown",
      "metadata": {
        "id": "view-in-github",
        "colab_type": "text"
      },
      "source": [
        "<a href=\"https://colab.research.google.com/github/CraigDaGama/SmartED-AI/blob/main/Pathfinding.ipynb\" target=\"_parent\"><img src=\"https://colab.research.google.com/assets/colab-badge.svg\" alt=\"Open In Colab\"/></a>"
      ]
    },
    {
      "cell_type": "code",
      "execution_count": 11,
      "metadata": {
        "id": "DcBWGWRlWpoF"
      },
      "outputs": [],
      "source": [
        "import matplotlib.pyplot as plt\n",
        "import heapq"
      ]
    },
    {
      "cell_type": "code",
      "source": [
        "class Grid:\n",
        "    def __init__(self, width, height, start, goal, obstacles):\n",
        "        self.width = width\n",
        "        self.height = height\n",
        "        self.start = start\n",
        "        self.goal = goal\n",
        "        self.obstacles = obstacles\n",
        "        self.nodes = [[(x, y) for y in range(height)] for x in range(width)]\n",
        "\n",
        "    def is_valid(self, node):\n",
        "        x, y = node\n",
        "        return 0 <= x < self.width and 0 <= y < self.height and node not in self.obstacles\n",
        "\n",
        "    def get_neighbors(self, node):\n",
        "        x, y = node\n",
        "        neighbors = [(x+1, y), (x-1, y), (x, y+1), (x, y-1)]\n",
        "        valid_neighbors = [neighbor for neighbor in neighbors if self.is_valid(neighbor)]\n",
        "        return valid_neighbors"
      ],
      "metadata": {
        "id": "nZ5WtpFdZm1Z"
      },
      "execution_count": 12,
      "outputs": []
    },
    {
      "cell_type": "code",
      "source": [
        "class AStar:\n",
        "    def __init__(self, grid):\n",
        "        self.grid = grid\n",
        "        self.start = grid.start\n",
        "        self.goal = grid.goal\n",
        "\n",
        "    def manhattan_distance(self, node1, node2):\n",
        "        return abs(node1[0] - node2[0]) + abs(node1[1] - node2[1])\n",
        "\n",
        "    def reconstruct_path(self, came_from, current):\n",
        "        path = []\n",
        "        while current in came_from:\n",
        "            path.append(current)\n",
        "            current = came_from[current]\n",
        "        path.append(self.start)\n",
        "        path.reverse()\n",
        "        return path\n",
        "\n",
        "    def find_path(self):\n",
        "        open_set = []\n",
        "        heapq.heappush(open_set, (0, self.start))\n",
        "        came_from = {}\n",
        "        g_score = {node: float('inf') for row in self.grid.nodes for node in row}\n",
        "        g_score[self.start] = 0\n",
        "        f_score = {node: float('inf') for row in self.grid.nodes for node in row}\n",
        "        f_score[self.start] = self.manhattan_distance(self.start, self.goal)\n",
        "\n",
        "        while open_set:\n",
        "            current_f, current = heapq.heappop(open_set)\n",
        "\n",
        "            if current == self.goal:\n",
        "                return self.reconstruct_path(came_from, current)\n",
        "\n",
        "            for neighbor in self.grid.get_neighbors(current):\n",
        "                tentative_g = g_score[current] + 1\n",
        "                if tentative_g < g_score[neighbor]:\n",
        "                    came_from[neighbor] = current\n",
        "                    g_score[neighbor] = tentative_g\n",
        "                    f_score[neighbor] = tentative_g + self.manhattan_distance(neighbor, self.goal)\n",
        "                    heapq.heappush(open_set, (f_score[neighbor], neighbor))\n",
        "\n",
        "        return None  # No path found"
      ],
      "metadata": {
        "id": "v9bLfo3BZmqw"
      },
      "execution_count": 13,
      "outputs": []
    },
    {
      "cell_type": "code",
      "source": [
        "def visualize_path(grid, path):\n",
        "    plt.figure(figsize=(8, 8))\n",
        "    for x in range(grid.width):\n",
        "        for y in range(grid.height):\n",
        "            if (x, y) in grid.obstacles:\n",
        "                plt.fill_between([x, x+1], [y, y], [y+1, y+1], color='gray')\n",
        "            else:\n",
        "                plt.fill_between([x, x+1], [y, y], [y+1, y+1], color='white')\n",
        "\n",
        "    for node in path:\n",
        "        plt.text(node[0] + 0.5, node[1] + 0.5, 'X', ha='center', va='center', fontsize=10, color='green')\n",
        "\n",
        "    plt.plot([grid.start[0] + 0.5], [grid.start[1] + 0.5], marker='o', markersize=8, color='blue', label='Start')\n",
        "    plt.plot([grid.goal[0] + 0.5], [grid.goal[1] + 0.5], marker='o', markersize=8, color='red', label='Goal')\n",
        "\n",
        "    plt.xlim(0, grid.width)\n",
        "    plt.ylim(0, grid.height)\n",
        "    plt.gca().invert_yaxis()\n",
        "    plt.title('A* Pathfinding')\n",
        "    plt.legend()\n",
        "    plt.show()\n"
      ],
      "metadata": {
        "id": "DalACXxyZmnT"
      },
      "execution_count": 14,
      "outputs": []
    },
    {
      "cell_type": "code",
      "source": [
        "# Example usage\n",
        "start = (1, 1)\n",
        "goal = (8, 8)\n",
        "obstacles = [(3, 3), (5, 5), (7, 7)]\n",
        "grid = Grid(10, 10, start, goal, obstacles)\n",
        "astar = AStar(grid)\n",
        "path = astar.find_path()\n",
        "\n",
        "if path:\n",
        "    print(\"Path found:\", path)\n",
        "    visualize_path(grid, path)\n",
        "else:\n",
        "    print(\"No path found.\")\n"
      ],
      "metadata": {
        "colab": {
          "base_uri": "https://localhost:8080/",
          "height": 716
        },
        "id": "aR6XxIWWZ42z",
        "outputId": "752bea7a-913b-45d3-cac8-bf7ca5c91042"
      },
      "execution_count": 15,
      "outputs": [
        {
          "output_type": "stream",
          "name": "stdout",
          "text": [
            "Path found: [(1, 1), (1, 2), (1, 3), (1, 4), (1, 5), (1, 6), (1, 7), (1, 8), (2, 8), (3, 8), (4, 8), (5, 8), (6, 8), (7, 8), (8, 8)]\n"
          ]
        },
        {
          "output_type": "display_data",
          "data": {
            "text/plain": [
              "<Figure size 800x800 with 1 Axes>"
            ],
            "image/png": "[encoded data removed]"
          },
          "metadata": {}
        }
      ]
    }
  ]
}