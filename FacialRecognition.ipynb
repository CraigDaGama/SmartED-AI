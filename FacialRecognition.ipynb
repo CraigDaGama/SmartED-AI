{
  "nbformat": 4,
  "nbformat_minor": 0,
  "metadata": {
    "colab": {
      "provenance": [],
      "gpuType": "T4",
      "authorship_tag": "ABX9TyMdTuksvZmgNsr9jGLVz9Li",
      "include_colab_link": true
    },
    "kernelspec": {
      "name": "python3",
      "display_name": "Python 3"
    },
    "language_info": {
      "name": "python"
    },
    "accelerator": "GPU"
  },
  "cells": [
    {
      "cell_type": "markdown",
      "metadata": {
        "id": "view-in-github",
        "colab_type": "text"
      },
      "source": [
        "<a href=\"https://colab.research.google.com/github/CraigDaGama/SmartED-AI/blob/main/FacialRecognition.ipynb\" target=\"_parent\"><img src=\"https://colab.research.google.com/assets/colab-badge.svg\" alt=\"Open In Colab\"/></a>"
      ]
    },
    {
      "cell_type": "code",
      "source": [
        "!pip install opencv-python dlib face_recognition"
      ],
      "metadata": {
        "colab": {
          "base_uri": "https://localhost:8080/"
        },
        "id": "yeugEf56B5hk",
        "outputId": "e2076542-445d-4348-fcbc-30d460543236"
      },
      "execution_count": 33,
      "outputs": [
        {
          "output_type": "stream",
          "name": "stdout",
          "text": [
            "Requirement already satisfied: opencv-python in /usr/local/lib/python3.10/dist-packages (4.10.0.84)\n",
            "Requirement already satisfied: dlib in /usr/local/lib/python3.10/dist-packages (19.24.2)\n",
            "Requirement already satisfied: face_recognition in /usr/local/lib/python3.10/dist-packages (1.3.0)\n",
            "Requirement already satisfied: numpy>=1.21.2 in /usr/local/lib/python3.10/dist-packages (from opencv-python) (1.26.4)\n",
            "Requirement already satisfied: face-recognition-models>=0.3.0 in /usr/local/lib/python3.10/dist-packages (from face_recognition) (0.3.0)\n",
            "Requirement already satisfied: Click>=6.0 in /usr/local/lib/python3.10/dist-packages (from face_recognition) (8.1.7)\n",
            "Requirement already satisfied: Pillow in /usr/local/lib/python3.10/dist-packages (from face_recognition) (9.4.0)\n"
          ]
        }
      ]
    },
    {
      "cell_type": "code",
      "source": [
        "import cv2\n",
        "import face_recognition\n",
        "import os\n",
        "import numpy as np\n"
      ],
      "metadata": {
        "id": "Hx8XY3_xCCiA"
      },
      "execution_count": 34,
      "outputs": []
    },
    {
      "cell_type": "code",
      "source": [
        "def load_images_from_folder(folder):\n",
        "    images = []\n",
        "    labels = []\n",
        "    for subdir in os.listdir(folder):\n",
        "        subdir_path = os.path.join(folder, subdir)\n",
        "        if os.path.isdir(subdir_path):\n",
        "            for filename in os.listdir(subdir_path):\n",
        "                img_path = os.path.join(subdir_path, filename)\n",
        "                img = cv2.imread(img_path)\n",
        "                if img is not None:\n",
        "                    images.append(img)\n",
        "                    labels.append(subdir)\n",
        "    return images, labels"
      ],
      "metadata": {
        "id": "teT-dQvyCkce"
      },
      "execution_count": 35,
      "outputs": []
    },
    {
      "cell_type": "code",
      "source": [
        "known_faces_dir = 'known_faces'\n",
        "known_images, known_labels = load_images_from_folder(known_faces_dir)"
      ],
      "metadata": {
        "id": "LOEvESuNI8B7"
      },
      "execution_count": 36,
      "outputs": []
    },
    {
      "cell_type": "code",
      "source": [
        "# Encode faces\n",
        "known_face_encodings = []\n",
        "known_face_names = []\n",
        "for img, label in zip(known_images, known_labels):\n",
        " img_rgb = cv2.cvtColor(img, cv2.COLOR_BGR2RGB)\n",
        " encodings = face_recognition.face_encodings(img_rgb)\n",
        " if encodings:\n",
        "  known_face_encodings.append(encodings[0])\n",
        "  known_face_names.append(label)\n"
      ],
      "metadata": {
        "id": "NKccYe1sL6s6"
      },
      "execution_count": 37,
      "outputs": []
    },
    {
      "cell_type": "code",
      "source": [
        "def recognize_faces_in_video(known_face_encodings, known_face_names):\n",
        "    video_capture = cv2.VideoCapture(0)\n",
        "    while True:\n",
        "        ret, frame = video_capture.read()\n",
        "        if not ret:\n",
        "            break\n",
        "        # Convert the frame to RGB\n",
        "        rgb_frame = frame[:, :, ::-1]\n",
        "        # Find all face locations and face encodings in the frame\n",
        "        face_locations = face_recognition.face_locations(rgb_frame)\n",
        "        face_encodings = face_recognition.face_encodings(rgb_frame, face_locations)\n",
        "        # Loop through each face in this frame\n",
        "        for (top, right, bottom, left), face_encoding in zip(face_locations, face_encodings):\n",
        "            matches = face_recognition.compare_faces(known_face_encodings, face_encoding)\n",
        "            name = \"Unknown\"\n",
        "            face_distances = face_recognition.face_distance(known_face_encodings, face_encoding)\n",
        "            best_match_index = np.argmin(face_distances)\n",
        "            if matches[best_match_index]:\n",
        "                name = known_face_names[best_match_index]\n",
        "            # Draw a box around the face\n",
        "            cv2.rectangle(frame, (left, top), (right, bottom), (0, 0, 255), 2)\n",
        "            cv2.putText(frame, name, (left + 6, bottom - 6), cv2.FONT_HERSHEY_DUPLEX, 1.0, (255, 255, 255), 1)\n",
        "        # Display the resulting image\n",
        "        cv2.imshow('Video', frame)\n",
        "        # Hit 'q' on the keyboard to quit!\n",
        "        if cv2.waitKey(1) & 0xFF == ord('q'):\n",
        "            break\n",
        "    video_capture.release()\n",
        "    cv2.destroyAllWindows()"
      ],
      "metadata": {
        "id": "nNNZeYclMIoH"
      },
      "execution_count": 38,
      "outputs": []
    },
    {
      "cell_type": "code",
      "source": [
        "recognize_faces_in_video(known_face_encodings, known_face_names)"
      ],
      "metadata": {
        "id": "-uuDqh0aMQuH"
      },
      "execution_count": 39,
      "outputs": []
    }
  ]
}