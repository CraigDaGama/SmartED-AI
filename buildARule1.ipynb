{
  "nbformat": 4,
  "nbformat_minor": 0,
  "metadata": {
    "colab": {
      "provenance": [],
      "authorship_tag": "ABX9TyORkUSrBs57KMko/5OgqA5y",
      "include_colab_link": true
    },
    "kernelspec": {
      "name": "python3",
      "display_name": "Python 3"
    },
    "language_info": {
      "name": "python"
    }
  },
  "cells": [
    {
      "cell_type": "markdown",
      "metadata": {
        "id": "view-in-github",
        "colab_type": "text"
      },
      "source": [
        "<a href=\"https://colab.research.google.com/github/CraigDaGama/SmartED-AI/blob/main/buildARule1.ipynb\" target=\"_parent\"><img src=\"https://colab.research.google.com/assets/colab-badge.svg\" alt=\"Open In Colab\"/></a>"
      ]
    },
    {
      "cell_type": "code",
      "execution_count": 6,
      "metadata": {
        "id": "ZFxL7foDgXzV"
      },
      "outputs": [],
      "source": [
        "# Define a list of rules\n",
        "rules = [\n",
        "    {\"weather\": \"sunny\", \"recommendation\": \"Take a bicycle.\"},\n",
        "    {\"weather\": \"rainy\", \"recommendation\": \"Take an umbrella.\"},\n",
        "    {\"weather\": \"snowy\", \"recommendation\": \"Take skis or snowboard.\"},\n",
        "    {\"weather\": \"windy\", \"recommendation\": \"Take a kite.\"},\n",
        "    {\"weather\": \"foggy\", \"recommendation\": \"Be careful and consider delaying travel.\"},\n",
        "    {\"weather\": \"cloudy\", \"recommendation\": \"Consider walking.\"},\n",
        "    {\"weather\": \"stormy\", \"recommendation\": \"Stay indoors and wait for the storm to pass.\"}\n",
        "]"
      ]
    },
    {
      "cell_type": "code",
      "source": [
        "def recommend_transportation(weather):\n",
        "    for rule in rules:\n",
        "        if rule[\"weather\"] == weather:\n",
        "            return rule[\"recommendation\"]\n",
        "    return \"No recommendation available for this weather.\"\n",
        "\n",
        "# Example usage\n",
        "weather_today = \"rainy\"\n",
        "recommendation = recommend_transportation(weather_today)\n",
        "print(f\"For weather '{weather_today}', recommendation: {recommendation}\")"
      ],
      "metadata": {
        "colab": {
          "base_uri": "https://localhost:8080/"
        },
        "id": "lF3cc7wzgigw",
        "outputId": "baba416e-76ba-454d-d7a0-9cd9b099213c"
      },
      "execution_count": 7,
      "outputs": [
        {
          "output_type": "stream",
          "name": "stdout",
          "text": [
            "For weather 'rainy', recommendation: Take an umbrella.\n"
          ]
        }
      ]
    },
    {
      "cell_type": "code",
      "source": [
        "# Define more complex rules\n",
        "rules = [\n",
        "    {\"weather\": \"sunny\", \"time\": \"day\", \"recommendation\": \"Take a bicycle.\"},\n",
        "    {\"weather\": \"rainy\", \"time\": \"day\", \"recommendation\": \"Take an umbrella.\"},\n",
        "    {\"weather\": \"snowy\", \"time\": \"day\", \"recommendation\": \"Take skis or snowboard.\"},\n",
        "    {\"weather\": \"windy\", \"time\": \"day\", \"recommendation\": \"Take a kite.\"},\n",
        "    {\"weather\": \"foggy\", \"time\": \"any\", \"recommendation\": \"Be careful and consider delaying travel.\"},\n",
        "    {\"weather\": \"cloudy\", \"time\": \"any\", \"recommendation\": \"Consider walking.\"},\n",
        "    {\"weather\": \"stormy\", \"time\": \"any\", \"recommendation\": \"Stay indoors and wait for the storm to pass.\"}\n",
        "]\n",
        "\n",
        "def recommend_transportation(weather, time_of_day):\n",
        "    for rule in rules:\n",
        "        if rule[\"weather\"] == weather and (rule[\"time\"] == time_of_day or rule[\"time\"] == \"any\"):\n",
        "            return rule[\"recommendation\"]\n",
        "    return \"No recommendation available for these conditions.\"\n",
        "\n",
        "# Example usage\n",
        "weather_today = \"rainy\"\n",
        "time_of_day = \"day\"\n",
        "recommendation = recommend_transportation(weather_today, time_of_day)\n",
        "print(f\"For weather '{weather_today}' and time '{time_of_day}', recommendation: {recommendation}\")\n"
      ],
      "metadata": {
        "colab": {
          "base_uri": "https://localhost:8080/"
        },
        "id": "Uc_vhxKhgidM",
        "outputId": "ef1857ac-913d-4c8d-e767-215a39009914"
      },
      "execution_count": 8,
      "outputs": [
        {
          "output_type": "stream",
          "name": "stdout",
          "text": [
            "For weather 'rainy' and time 'day', recommendation: Take an umbrella.\n"
          ]
        }
      ]
    },
    {
      "cell_type": "code",
      "source": [
        "def recommend_transportation(weather, time_of_day):\n",
        "    for rule in rules:\n",
        "        if rule[\"weather\"] == weather:\n",
        "            if \"time\" in rule:\n",
        "                if rule[\"time\"] == time_of_day or rule[\"time\"] == \"any\":\n",
        "                    return rule[\"recommendation\"]\n",
        "            else:\n",
        "                return rule[\"recommendation\"]\n",
        "    return \"No recommendation available for these conditions.\"\n"
      ],
      "metadata": {
        "id": "1tCFS3ILgiN6"
      },
      "execution_count": 9,
      "outputs": []
    },
    {
      "cell_type": "code",
      "source": [
        "def main():\n",
        "    print(\"Welcome to the Transportation Recommendation System\")\n",
        "    weather = input(\"Enter the current weather (sunny, rainy, snowy, windy, foggy, cloudy, stormy): \").strip().lower()\n",
        "    time_of_day = input(\"Enter the time of day (day, night): \").strip().lower()\n",
        "\n",
        "    recommendation = recommend_transportation(weather, time_of_day)\n",
        "    print(f\"Recommendation: {recommendation}\")\n",
        "\n",
        "if __name__ == \"__main__\":\n",
        "    main()\n"
      ],
      "metadata": {
        "colab": {
          "base_uri": "https://localhost:8080/"
        },
        "id": "jrh1srXagxQZ",
        "outputId": "d641efd0-6a8a-4feb-f705-b9874efd9c1c"
      },
      "execution_count": null,
      "outputs": [
        {
          "output_type": "stream",
          "name": "stdout",
          "text": [
            "Welcome to the Transportation Recommendation System\n"
          ]
        }
      ]
    }
  ]
}